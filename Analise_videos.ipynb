{
 "cells": [
  {
   "cell_type": "code",
   "execution_count": null,
   "id": "d5af3ed2",
   "metadata": {},
   "outputs": [],
   "source": [
    "import deeplabcut"
   ]
  },
  {
   "cell_type": "markdown",
   "id": "c1025cd2",
   "metadata": {},
   "source": [
    "### Change according to your file path of config.yaml"
   ]
  },
  {
   "cell_type": "code",
   "execution_count": null,
   "id": "ebecb350",
   "metadata": {},
   "outputs": [],
   "source": [
    "config_path=r\"C:\\Users\\User\\Desktop\\OpenFieldDLC\\OpenField-Laura-2023-06-19\\config.yaml\""
   ]
  },
  {
   "cell_type": "markdown",
   "id": "230aa924",
   "metadata": {},
   "source": [
    "### Fill with your video files paths"
   ]
  },
  {
   "cell_type": "code",
   "execution_count": null,
   "id": "e582b3e0",
   "metadata": {},
   "outputs": [],
   "source": [
    "folder_path=[r\"C:\\Users\\User\\Documents\\Laura\\Videos-YAC mp4\\377_fe.mp4\",\n",
    "r\"C:\\Users\\User\\Documents\\Laura\\Videos-YAC mp4\\376_fd.mp4\",\n",
    "r\"C:\\Users\\User\\Documents\\Laura\\Videos-YAC mp4\\376_fde.mp4\"]"
   ]
  },
  {
   "cell_type": "code",
   "execution_count": null,
   "id": "a76cb8aa",
   "metadata": {},
   "outputs": [],
   "source": [
    "deeplabcut.analyze_videos(config_path, folder_path, shuffle=2, gputouse=0, videotype='.mp4')"
   ]
  },
  {
   "cell_type": "code",
   "execution_count": null,
   "id": "46a85ce4",
   "metadata": {},
   "outputs": [],
   "source": [
    "# Extra\n",
    "#deeplabcut.create_labeled_video(config_path, [r\"C:\\Users\\User\\Documents\\Laura\\Videos-YAC mp4\\377_fe.mp4\"])\n",
    "#deeplabcut.plot_trajectories(config_path, [r\"C:\\Users\\User\\Documents\\Laura\\Videos-YAC mp4\\377_fe.mp4\"])"
   ]
  }
 ],
 "metadata": {
  "kernelspec": {
   "display_name": "Python [conda env:DEEPLABCUT] *",
   "language": "python",
   "name": "conda-env-DEEPLABCUT-py"
  },
  "language_info": {
   "codemirror_mode": {
    "name": "ipython",
    "version": 3
   },
   "file_extension": ".py",
   "mimetype": "text/x-python",
   "name": "python",
   "nbconvert_exporter": "python",
   "pygments_lexer": "ipython3",
   "version": "3.8.16"
  }
 },
 "nbformat": 4,
 "nbformat_minor": 5
}
