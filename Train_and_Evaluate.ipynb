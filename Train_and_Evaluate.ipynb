{
 "cells": [
  {
   "cell_type": "code",
   "execution_count": null,
   "id": "faa968b7",
   "metadata": {},
   "outputs": [],
   "source": [
    "import deeplabcut"
   ]
  },
  {
   "cell_type": "markdown",
   "id": "d8b58f40",
   "metadata": {},
   "source": [
    "### Project Creation or Initalization"
   ]
  },
  {
   "cell_type": "code",
   "execution_count": null,
   "id": "d8f6be1b",
   "metadata": {
    "scrolled": true
   },
   "outputs": [],
   "source": [
    "# Use the first config_path when creating a new project\n",
    "#config_path = deeplabcut.create_new_project('OpenField','Laura', [r\"C:\\Users\\User\\Documents\\Laura\\Videos-YAC mp4\\381_te.mp4\", r\"C:\\Users\\User\\Documents\\Laura\\Videos-YAC mp4\\382_fef.mp4\", r\"C:\\Users\\User\\Documents\\Laura\\Videos-YAC mp4\\376_td.mp4\", r\"C:\\Users\\User\\Documents\\Laura\\Videos-YAC mp4\\378_td.mp4\", r\"C:\\Users\\User\\Documents\\Laura\\Videos-YAC mp4\\376_fde.mp4\", r\"C:\\Users\\User\\Documents\\Laura\\Videos-YAC mp4\\377_te.mp4\"], copy_videos=True)\n",
    "config_path = r\"C:\\Users\\User\\Desktop\\OpenFieldDLC\\OpenField-Laura-2023-06-19\\config.yaml\""
   ]
  },
  {
   "cell_type": "code",
   "execution_count": null,
   "id": "e5fe99b1",
   "metadata": {},
   "outputs": [],
   "source": [
    "deeplabcut.extract_frames(config_path,'automatic','kmeans', crop=True)"
   ]
  },
  {
   "cell_type": "markdown",
   "id": "351f82ee",
   "metadata": {},
   "source": [
    "### Frame Labelling "
   ]
  },
  {
   "cell_type": "code",
   "execution_count": null,
   "id": "a5738f5d",
   "metadata": {},
   "outputs": [],
   "source": [
    "# %gui qt6\n",
    "import napari\n",
    "napari.Viewer()"
   ]
  },
  {
   "cell_type": "markdown",
   "id": "9b3411ce",
   "metadata": {},
   "source": [
    "### Training a model"
   ]
  },
  {
   "cell_type": "code",
   "execution_count": null,
   "id": "d9dc9b86",
   "metadata": {},
   "outputs": [],
   "source": [
    "deeplabcut.create_training_dataset(config_path, num_shuffles=10, augmenter_type=\"imgaug\")"
   ]
  },
  {
   "cell_type": "code",
   "execution_count": null,
   "id": "8a9092a7",
   "metadata": {
    "scrolled": true
   },
   "outputs": [],
   "source": [
    "deeplabcut.train_network(config_path,shuffle=1,gputouse=0, max_snapshots_to_keep=5,\n",
    "autotune=False,displayiters=100)"
   ]
  },
  {
   "cell_type": "markdown",
   "id": "6509a11b",
   "metadata": {},
   "source": [
    "### Evaluate a model"
   ]
  },
  {
   "cell_type": "code",
   "execution_count": null,
   "id": "6417a2b2",
   "metadata": {
    "scrolled": true
   },
   "outputs": [],
   "source": [
    "import matplotlib\n",
    "%matplotlib inline\n",
    "#for making interactive plots.\n",
    "deeplabcut.evaluate_network(config_path, Shuffles=[1],plotting=False, trainingsetindex='all')"
   ]
  }
 ],
 "metadata": {
  "kernelspec": {
   "display_name": "Python [conda env:DEEPLABCUT] *",
   "language": "python",
   "name": "conda-env-DEEPLABCUT-py"
  },
  "language_info": {
   "codemirror_mode": {
    "name": "ipython",
    "version": 3
   },
   "file_extension": ".py",
   "mimetype": "text/x-python",
   "name": "python",
   "nbconvert_exporter": "python",
   "pygments_lexer": "ipython3",
   "version": "3.8.16"
  }
 },
 "nbformat": 4,
 "nbformat_minor": 5
}
